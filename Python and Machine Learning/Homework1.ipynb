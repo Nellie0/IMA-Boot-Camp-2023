{
 "cells": [
  {
   "cell_type": "code",
   "execution_count": 1,
   "metadata": {},
   "outputs": [],
   "source": [
    "#Import packages\n",
    "import numpy as np\n",
    "import matplotlib.pyplot as plt\n",
    "import random as rd\n",
    "import scipy.linalg as la\n",
    "from numpy.linalg import matrix_power as mpow"
   ]
  },
  {
   "cell_type": "code",
   "execution_count": 2,
   "metadata": {},
   "outputs": [
    {
     "name": "stdout",
     "output_type": "stream",
     "text": [
      "10\n",
      "2.5e+23\n",
      "(2+3j)\n",
      "(-0.4999999999999998+0.8660254037844387j)\n"
     ]
    }
   ],
   "source": [
    "#1 a) Scalar variables. Make the following varialbes.\n",
    "a=10\n",
    "b=2.5*(10**23)  #Can use b = 2.5e23\n",
    "c=2+3j #i^2=-1, use 1j for i and 3j for 3i\n",
    "d=np.exp((1j*2*np.pi)/3)\n",
    "print(a)\n",
    "print(b)\n",
    "print(c)\n",
    "print(d)"
   ]
  },
  {
   "cell_type": "code",
   "execution_count": 3,
   "metadata": {},
   "outputs": [],
   "source": [
    "#b) Vector variables: Make the following variables, as numpy arrays\n",
    "u=np.array([3.14,15,9,26])\n",
    "#print(u)\n",
    "\n",
    "v=np.array([[2.71],[8],[28],[182]])\n",
    "#print(v)\n",
    "\n",
    "w=np.array([5.0])\n",
    "for i in range(50):\n",
    "    #w=np.insert(w,i+1,5.0-0.2*(i+1))   Same thing\n",
    "    w=np.append(w,5.0-0.2*(i+1))\n",
    "#print(w)\n",
    "# Can also use: w = np.arange(5,-5.2,-0.2)\n",
    "# w = np.linspace(5,-5,51) # alternative to arange\n",
    "\n",
    "m=np.array(np.logspace(0,1,num=100))\n",
    "#print(m)\n",
    "#np.log10(1/m) # to see the exponents"
   ]
  },
  {
   "cell_type": "code",
   "execution_count": 4,
   "metadata": {},
   "outputs": [
    {
     "name": "stdout",
     "output_type": "stream",
     "text": [
      "[[-1.  1. -0.]\n",
      " [ 3.  2. -1.]\n",
      " [ 1. -2.  3.]\n",
      " [ 0.  2.  2.]\n",
      " [-3. -1. -2.]]\n"
     ]
    }
   ],
   "source": [
    "#c) Matrix variables: Make the following variables.\n",
    "A=np.full((9,9),2)\n",
    "#print(A)\n",
    "\n",
    "B=np.diag([1,2,3,4,5,4,3,2,1])\n",
    "#print(B)\n",
    "\n",
    "C=np.array([],dtype=np.int64)\n",
    "for i in range (100):\n",
    "    C=np.append(C,i+1)\n",
    "C=np.reshape(C,(10,10))\n",
    "C=C.T\n",
    "#print(C)\n",
    "\n",
    "D=np.array([[13,-1,5],[-22,10,87]])\n",
    "#print(D)\n",
    "\n",
    "E=6*np.random.random_sample((5,3))-3\n",
    "E=np.round(E)\n",
    "print(E)"
   ]
  },
  {
   "cell_type": "code",
   "execution_count": 5,
   "metadata": {},
   "outputs": [
    {
     "name": "stdout",
     "output_type": "stream",
     "text": [
      "0.3029407160345927\n",
      "(0.10463356619618336+0j)\n"
     ]
    }
   ],
   "source": [
    "#d) Scalar expressions: Using the variables created in (a), calculate x and y.\n",
    "x=1/(1+np.exp(-(a-15)/6))\n",
    "print(x)\n",
    "\n",
    "y=(np.log(np.real((c+d)*(c-d))*np.sin(a*np.pi/3)))/(c*np.conj(c))\n",
    "print(y)"
   ]
  },
  {
   "cell_type": "code",
   "execution_count": 6,
   "metadata": {},
   "outputs": [
    {
     "name": "stdout",
     "output_type": "stream",
     "text": [
      "[[8.86767747e-02]\n",
      " [9.53635281e-04]\n",
      " [9.20492284e-29]\n",
      " [0.00000000e+00]]\n",
      "[[  4.14773432  15.24283766   9.39915422  26.14085117]\n",
      " [  8.59416081  17.          12.04159458  27.20294102]\n",
      " [ 28.17551419  31.76476035  29.41088234  38.20994635]\n",
      " [182.0270848  182.61708573 182.2223916  183.84776311]]\n"
     ]
    }
   ],
   "source": [
    "#e) Vector expressions: Using the variables created in (b), evaluate the expressions below, elementwise.\n",
    "x=(1/(np.sqrt(2*np.pi*(2.5**2))))*np.exp((-v**2)/(2*2.5**2))\n",
    "print(x)\n",
    "\n",
    "y=np.sqrt(u.T**2+v**2)\n",
    "print(y)\n",
    "\n",
    "z=np.log10(1/m)\n",
    "#print(z)"
   ]
  },
  {
   "cell_type": "code",
   "execution_count": 11,
   "metadata": {},
   "outputs": [],
   "source": [
    "#f) Matrix expressions: Using variables in (b) and (c), evaluate below using matrix operations\n",
    "X=np.dot(u,v)*mpow(A,2)\n",
    "#print(X)\n",
    "\n",
    "Y=np.dot(v,[u])\n",
    "#print(Y)\n",
    "\n",
    "Z=la.det(C)*((A@B).T)\n",
    "#print(Z)"
   ]
  },
  {
   "cell_type": "code",
   "execution_count": 12,
   "metadata": {},
   "outputs": [
    {
     "name": "stdout",
     "output_type": "stream",
     "text": [
      "[ 55 155 255 355 455 555 655 755 855 955]\n",
      "[46. 47. 48. 49. 50. 51. 52. 53. 54. 55.]\n",
      "[ 1 10]\n",
      "[1 1 1]\n",
      "[[  1   1   1]\n",
      " [-22  10  87]]\n",
      "[  1  -2   3  -4   5  -6   7  -8   9 -10  11 -12  13 -14  15 -16  17 -18\n",
      "  19 -20]\n",
      "[[0.        0.7790852 0.        0.        0.       ]]\n"
     ]
    }
   ],
   "source": [
    "#g) Common functions and indexing\n",
    "print(np.sum(C, axis=0))    #column-wise sum of C\n",
    "print(np.mean(C,axis=1))    #row-wise mean of C\n",
    "\n",
    "#Display second column of D\n",
    "col2=D[:,1]\n",
    "print(col2)\n",
    "\n",
    "#Display first row of D\n",
    "row1=D[0,:]\n",
    "print(row1)\n",
    "\n",
    "#Replace top row of D with [1 1 1]\n",
    "g=np.array([[1,1,1],D[1,:]])\n",
    "print(g)\n",
    "D=g\n",
    "\n",
    "#Extract submatrix of C that contains row 2 through 9 and columns 2 through 9\n",
    "#print(C[1:9,1:9])\n",
    "\n",
    "#Make vector k = (1 2 ... 20), then make every other value in it negative so k = (1 -2 3 -4 ... 19 -20)\n",
    "k=np.array(range(1,21))\n",
    "k[1::2]=-k[1::2]\n",
    "print(k)\n",
    "\n",
    "#Make r a 1x5 vector using np.random.random_sample.\n",
    "#Find elements that are less than 0.5 and set to 0.\n",
    "#Use array indexing on left-hand-side of assignment\n",
    "r=np.random.random_sample((1,5))\n",
    "r=np.select([r<0.5],[0],r) #r[r<0.5]=0 simple\n",
    "print(r) #This isn't intended, but works. Look at intended solution"
   ]
  },
  {
   "cell_type": "code",
   "execution_count": 14,
   "metadata": {},
   "outputs": [
    {
     "name": "stdout",
     "output_type": "stream",
     "text": [
      "[ 1.          1.99        2.9701     ... 99.99563927 99.99568288\n",
      " 99.99572605]\n"
     ]
    }
   ],
   "source": [
    "#2. Convergence of infinite series. Look at two series that converge to finite value when summed.\n",
    "# (a) geometric series\n",
    "r=0.99\n",
    "k=np.arange(0,1001)\n",
    "S = 1/(1-r) # infinite sum\n",
    "ak = r**k # sequence\n",
    "Sk = np.cumsum(ak) # partial sums\n",
    "print(Sk)"
   ]
  }
 ],
 "metadata": {
  "kernelspec": {
   "display_name": "base",
   "language": "python",
   "name": "python3"
  },
  "language_info": {
   "codemirror_mode": {
    "name": "ipython",
    "version": 3
   },
   "file_extension": ".py",
   "mimetype": "text/x-python",
   "name": "python",
   "nbconvert_exporter": "python",
   "pygments_lexer": "ipython3",
   "version": "3.10.9"
  },
  "orig_nbformat": 4
 },
 "nbformat": 4,
 "nbformat_minor": 2
}
